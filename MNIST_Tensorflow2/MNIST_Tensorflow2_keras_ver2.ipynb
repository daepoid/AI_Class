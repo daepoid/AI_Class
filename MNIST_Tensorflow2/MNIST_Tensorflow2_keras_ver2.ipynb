{
  "nbformat": 4,
  "nbformat_minor": 0,
  "metadata": {
    "colab": {
      "name": "MNIST_Tensorflow2_keras_ver2.ipynb",
      "provenance": [],
      "collapsed_sections": [],
      "include_colab_link": true
    },
    "kernelspec": {
      "name": "python3",
      "display_name": "Python 3"
    },
    "accelerator": "GPU"
  },
  "cells": [
    {
      "cell_type": "markdown",
      "metadata": {
        "id": "view-in-github",
        "colab_type": "text"
      },
      "source": [
        "<a href=\"https://colab.research.google.com/github/daepoid/AI_Class/blob/master/MNIST_Tensorflow2/MNIST_Tensorflow2_keras_ver2.ipynb\" target=\"_parent\"><img src=\"https://colab.research.google.com/assets/colab-badge.svg\" alt=\"Open In Colab\"/></a>"
      ]
    },
    {
      "cell_type": "code",
      "metadata": {
        "id": "NDpR205tB31_",
        "colab_type": "code",
        "outputId": "fef619c7-4976-4eef-ce87-e9d7a083fab8",
        "colab": {
          "base_uri": "https://localhost:8080/",
          "height": 64
        }
      },
      "source": [
        "import tensorflow as tf\n",
        "import numpy as np\n",
        "from tensorflow import keras\n",
        "import matplotlib.pyplot as plt"
      ],
      "execution_count": 0,
      "outputs": [
        {
          "output_type": "display_data",
          "data": {
            "text/html": [
              "<p style=\"color: red;\">\n",
              "The default version of TensorFlow in Colab will soon switch to TensorFlow 2.x.<br>\n",
              "We recommend you <a href=\"https://www.tensorflow.org/guide/migrate\" target=\"_blank\">upgrade</a> now \n",
              "or ensure your notebook will continue to use TensorFlow 1.x via the <code>%tensorflow_version 1.x</code> magic:\n",
              "<a href=\"https://colab.research.google.com/notebooks/tensorflow_version.ipynb\" target=\"_blank\">more info</a>.</p>\n"
            ],
            "text/plain": [
              "<IPython.core.display.HTML object>"
            ]
          },
          "metadata": {
            "tags": []
          }
        }
      ]
    },
    {
      "cell_type": "code",
      "metadata": {
        "id": "UZ1eizMVvPU9",
        "colab_type": "code",
        "outputId": "d7f9c791-2b37-4386-c343-821db25db96b",
        "colab": {
          "base_uri": "https://localhost:8080/",
          "height": 127
        }
      },
      "source": [
        "from google.colab import drive\n",
        "drive.mount('/content/drive')"
      ],
      "execution_count": 0,
      "outputs": [
        {
          "output_type": "stream",
          "text": [
            "Go to this URL in a browser: https://accounts.google.com/o/oauth2/auth?client_id=947318989803-6bn6qk8qdgf4n4g3pfee6491hc0brc4i.apps.googleusercontent.com&redirect_uri=urn%3aietf%3awg%3aoauth%3a2.0%3aoob&response_type=code&scope=email%20https%3a%2f%2fwww.googleapis.com%2fauth%2fdocs.test%20https%3a%2f%2fwww.googleapis.com%2fauth%2fdrive%20https%3a%2f%2fwww.googleapis.com%2fauth%2fdrive.photos.readonly%20https%3a%2f%2fwww.googleapis.com%2fauth%2fpeopleapi.readonly\n",
            "\n",
            "Enter your authorization code:\n",
            "··········\n",
            "Mounted at /content/drive\n"
          ],
          "name": "stdout"
        }
      ]
    },
    {
      "cell_type": "code",
      "metadata": {
        "id": "NTnDj8VdRL3z",
        "colab_type": "code",
        "colab": {}
      },
      "source": [
        "dropout_rate = 0.2\n",
        "input_layer_size = 784\n",
        "first_hidden_layer_size = 256\n",
        "second_hidden_layer_size = 256\n",
        "batch_size = 256\n",
        "epoch_size = 100\n",
        "learning_rate = 0.001\n",
        "l2_norm = 0.001\n",
        "model_patience = 7\n",
        "\n",
        "train_path = '/content/drive/My Drive/Colab Notebooks/train.txt'\n",
        "test_path = '/content/drive/My Drive/Colab Notebooks/test.txt'\n",
        "model_path = '/content/drive/My Drive/Colab Notebooks/best_model_b256.h5'"
      ],
      "execution_count": 0,
      "outputs": []
    },
    {
      "cell_type": "code",
      "metadata": {
        "id": "9b3VabYe78fQ",
        "colab_type": "code",
        "colab": {}
      },
      "source": [
        "with open(train_path) as train_data:\n",
        "  trainsets = train_data.read()\n",
        "\n",
        "trainsets = trainsets.split()\n",
        "\n",
        "y_train =  list(map(int, trainsets[::28 * 28 + 1]))\n",
        "del trainsets[::28 * 28 + 1]\n",
        "x_train = list(map(float, trainsets))\n",
        "\n",
        "with open(test_path) as test_data:\n",
        "  testsets = test_data.read()\n",
        "\n",
        "testsets = testsets.split()\n",
        "\n",
        "y_test = list(map(int, testsets[::28 * 28 + 1]))\n",
        "del testsets[::28 * 28 + 1]\n",
        "x_test = list(map(float, testsets))"
      ],
      "execution_count": 0,
      "outputs": []
    },
    {
      "cell_type": "code",
      "metadata": {
        "id": "1oHHF0SuEC56",
        "colab_type": "code",
        "colab": {}
      },
      "source": [
        "x_train = np.array(x_train).reshape(60000, 784).astype('float32') / 255.0\n",
        "x_test = np.array(x_test).reshape(10000, 784).astype('float32') / 255.0"
      ],
      "execution_count": 0,
      "outputs": []
    },
    {
      "cell_type": "code",
      "metadata": {
        "id": "1ApxopcxF3-9",
        "colab_type": "code",
        "colab": {}
      },
      "source": [
        "y_train = keras.utils.to_categorical(np.array(y_train))\n",
        "y_test = keras.utils.to_categorical(np.array(y_test))"
      ],
      "execution_count": 0,
      "outputs": []
    },
    {
      "cell_type": "code",
      "metadata": {
        "id": "5woirw2qColr",
        "colab_type": "code",
        "colab": {}
      },
      "source": [
        "model = tf.keras.Sequential()"
      ],
      "execution_count": 0,
      "outputs": []
    },
    {
      "cell_type": "code",
      "metadata": {
        "id": "hpAZkr-H4uTB",
        "colab_type": "code",
        "outputId": "025c7f47-b733-41ce-bf3c-1b107974c881",
        "colab": {
          "base_uri": "https://localhost:8080/",
          "height": 91
        }
      },
      "source": [
        "# model.add(keras.layers.Dense(input_layer_size, input_shape=(784,), \n",
        "#                              activation='relu'))\n",
        "# model.add(keras.layers.Dense(first_hidden_layer_size, \n",
        "#                              activation='relu'))\n",
        "# model.add(keras.layers.Dense(second_hidden_layer_size, \n",
        "#                              activation='relu'))\n",
        "# model.add(keras.layers.Dense(10, activation='softmax'))"
      ],
      "execution_count": 0,
      "outputs": [
        {
          "output_type": "stream",
          "text": [
            "WARNING:tensorflow:From /usr/local/lib/python3.6/dist-packages/tensorflow_core/python/ops/resource_variable_ops.py:1630: calling BaseResourceVariable.__init__ (from tensorflow.python.ops.resource_variable_ops) with constraint is deprecated and will be removed in a future version.\n",
            "Instructions for updating:\n",
            "If using Keras pass *_constraint arguments to layers.\n"
          ],
          "name": "stdout"
        }
      ]
    },
    {
      "cell_type": "code",
      "metadata": {
        "id": "eYm-yQrcRHqf",
        "colab_type": "code",
        "colab": {}
      },
      "source": [
        "# model.add(keras.layers.Dense(input_layer_size, input_shape=(784,), \n",
        "#                              activation='relu', \n",
        "#                              kernel_initializer='he_normal',\n",
        "#                              kernel_regularizer=keras.regularizers.l2(l2_norm)))\n",
        "# model.add(keras.layers.Dropout(dropout_rate))\n",
        "# model.add(keras.layers.Dense(first_hidden_layer_size, \n",
        "#                              activation='relu', \n",
        "#                              kernel_initializer='he_normal', \n",
        "#                              kernel_regularizer=keras.regularizers.l2(l2_norm)))\n",
        "# model.add(keras.layers.Dropout(dropout_rate))\n",
        "# model.add(keras.layers.Dense(second_hidden_layer_size, \n",
        "#                              activation='relu', \n",
        "#                              kernel_initializer='he_normal', \n",
        "#                              kernel_regularizer=keras.regularizers.l2(l2_norm)))\n",
        "# model.add(keras.layers.Dropout(dropout_rate))\n",
        "# model.add(keras.layers.Dense(10, activation='softmax'))"
      ],
      "execution_count": 0,
      "outputs": []
    },
    {
      "cell_type": "code",
      "metadata": {
        "id": "HOjyXwqcVon0",
        "colab_type": "code",
        "colab": {}
      },
      "source": [
        "model.compile(loss='categorical_crossentropy', \n",
        "              optimizer=keras.optimizers.Adam(lr=learning_rate), \n",
        "              metrics=['accuracy'])"
      ],
      "execution_count": 0,
      "outputs": []
    },
    {
      "cell_type": "code",
      "metadata": {
        "id": "jaapSGNbQ_E-",
        "colab_type": "code",
        "colab": {}
      },
      "source": [
        "callbacks = [keras.callbacks.EarlyStopping(monitor='val_loss', patience=model_patience),\n",
        "             keras.callbacks.ModelCheckpoint(filepath=model_path,\n",
        "                                             monitor='val_loss',\n",
        "                                             save_best_only=True)]"
      ],
      "execution_count": 0,
      "outputs": []
    },
    {
      "cell_type": "code",
      "metadata": {
        "colab_type": "code",
        "id": "Yc6I873eE5mY",
        "outputId": "e2a5cd06-df3e-45c3-8ee3-3f819e58d6e0",
        "colab": {
          "base_uri": "https://localhost:8080/",
          "height": 1000
        }
      },
      "source": [
        "hist = model.fit(x_train, y_train, batch_size=batch_size, epochs=epoch_size, validation_split=0.1, callbacks=callbacks, verbose=2)\n",
        "# hist = model.fit(x_train, y_train, batch_size=batch_size, epochs=epoch_size, validation_split=0.1, verbose=2)\n"
      ],
      "execution_count": 0,
      "outputs": [
        {
          "output_type": "stream",
          "text": [
            "Train on 54000 samples, validate on 6000 samples\n",
            "Epoch 1/100\n",
            "54000/54000 - 2s - loss: 0.2829 - acc: 0.9184 - val_loss: 0.0988 - val_acc: 0.9693\n",
            "Epoch 2/100\n",
            "54000/54000 - 1s - loss: 0.0949 - acc: 0.9712 - val_loss: 0.0789 - val_acc: 0.9762\n",
            "Epoch 3/100\n",
            "54000/54000 - 1s - loss: 0.0580 - acc: 0.9821 - val_loss: 0.0637 - val_acc: 0.9823\n",
            "Epoch 4/100\n",
            "54000/54000 - 1s - loss: 0.0384 - acc: 0.9879 - val_loss: 0.0823 - val_acc: 0.9748\n",
            "Epoch 5/100\n",
            "54000/54000 - 1s - loss: 0.0300 - acc: 0.9903 - val_loss: 0.0697 - val_acc: 0.9807\n",
            "Epoch 6/100\n",
            "54000/54000 - 1s - loss: 0.0240 - acc: 0.9922 - val_loss: 0.0812 - val_acc: 0.9768\n",
            "Epoch 7/100\n",
            "54000/54000 - 1s - loss: 0.0179 - acc: 0.9938 - val_loss: 0.0913 - val_acc: 0.9775\n",
            "Epoch 8/100\n",
            "54000/54000 - 1s - loss: 0.0157 - acc: 0.9951 - val_loss: 0.0721 - val_acc: 0.9822\n",
            "Epoch 9/100\n",
            "54000/54000 - 1s - loss: 0.0153 - acc: 0.9950 - val_loss: 0.1027 - val_acc: 0.9752\n",
            "Epoch 10/100\n",
            "54000/54000 - 1s - loss: 0.0147 - acc: 0.9950 - val_loss: 0.0776 - val_acc: 0.9817\n",
            "Epoch 11/100\n",
            "54000/54000 - 1s - loss: 0.0137 - acc: 0.9950 - val_loss: 0.0823 - val_acc: 0.9795\n",
            "Epoch 12/100\n",
            "54000/54000 - 1s - loss: 0.0100 - acc: 0.9968 - val_loss: 0.0793 - val_acc: 0.9840\n",
            "Epoch 13/100\n",
            "54000/54000 - 1s - loss: 0.0097 - acc: 0.9969 - val_loss: 0.0812 - val_acc: 0.9843\n",
            "Epoch 14/100\n",
            "54000/54000 - 1s - loss: 0.0082 - acc: 0.9973 - val_loss: 0.1099 - val_acc: 0.9785\n",
            "Epoch 15/100\n",
            "54000/54000 - 1s - loss: 0.0095 - acc: 0.9971 - val_loss: 0.0954 - val_acc: 0.9810\n",
            "Epoch 16/100\n",
            "54000/54000 - 1s - loss: 0.0110 - acc: 0.9965 - val_loss: 0.0964 - val_acc: 0.9812\n",
            "Epoch 17/100\n",
            "54000/54000 - 1s - loss: 0.0074 - acc: 0.9979 - val_loss: 0.1023 - val_acc: 0.9818\n",
            "Epoch 18/100\n",
            "54000/54000 - 1s - loss: 0.0067 - acc: 0.9975 - val_loss: 0.1145 - val_acc: 0.9815\n",
            "Epoch 19/100\n",
            "54000/54000 - 1s - loss: 0.0104 - acc: 0.9968 - val_loss: 0.0957 - val_acc: 0.9813\n",
            "Epoch 20/100\n",
            "54000/54000 - 1s - loss: 0.0104 - acc: 0.9966 - val_loss: 0.0978 - val_acc: 0.9793\n",
            "Epoch 21/100\n",
            "54000/54000 - 1s - loss: 0.0082 - acc: 0.9973 - val_loss: 0.0955 - val_acc: 0.9837\n",
            "Epoch 22/100\n",
            "54000/54000 - 1s - loss: 0.0097 - acc: 0.9971 - val_loss: 0.0923 - val_acc: 0.9833\n",
            "Epoch 23/100\n",
            "54000/54000 - 1s - loss: 0.0074 - acc: 0.9975 - val_loss: 0.0950 - val_acc: 0.9802\n",
            "Epoch 24/100\n",
            "54000/54000 - 1s - loss: 0.0051 - acc: 0.9983 - val_loss: 0.0951 - val_acc: 0.9825\n",
            "Epoch 25/100\n",
            "54000/54000 - 1s - loss: 0.0035 - acc: 0.9990 - val_loss: 0.0930 - val_acc: 0.9843\n",
            "Epoch 26/100\n",
            "54000/54000 - 1s - loss: 0.0034 - acc: 0.9989 - val_loss: 0.1194 - val_acc: 0.9800\n",
            "Epoch 27/100\n",
            "54000/54000 - 1s - loss: 0.0110 - acc: 0.9963 - val_loss: 0.0994 - val_acc: 0.9820\n",
            "Epoch 28/100\n",
            "54000/54000 - 1s - loss: 0.0073 - acc: 0.9976 - val_loss: 0.1009 - val_acc: 0.9813\n",
            "Epoch 29/100\n",
            "54000/54000 - 1s - loss: 0.0025 - acc: 0.9993 - val_loss: 0.1015 - val_acc: 0.9807\n",
            "Epoch 30/100\n",
            "54000/54000 - 1s - loss: 0.0036 - acc: 0.9989 - val_loss: 0.0959 - val_acc: 0.9840\n",
            "Epoch 31/100\n",
            "54000/54000 - 1s - loss: 0.0037 - acc: 0.9989 - val_loss: 0.1462 - val_acc: 0.9767\n",
            "Epoch 32/100\n",
            "54000/54000 - 1s - loss: 0.0053 - acc: 0.9985 - val_loss: 0.1107 - val_acc: 0.9827\n",
            "Epoch 33/100\n",
            "54000/54000 - 1s - loss: 0.0061 - acc: 0.9981 - val_loss: 0.1226 - val_acc: 0.9788\n",
            "Epoch 34/100\n",
            "54000/54000 - 1s - loss: 0.0079 - acc: 0.9973 - val_loss: 0.1210 - val_acc: 0.9807\n",
            "Epoch 35/100\n",
            "54000/54000 - 1s - loss: 0.0087 - acc: 0.9974 - val_loss: 0.1051 - val_acc: 0.9808\n",
            "Epoch 36/100\n",
            "54000/54000 - 1s - loss: 0.0057 - acc: 0.9983 - val_loss: 0.0983 - val_acc: 0.9847\n",
            "Epoch 37/100\n",
            "54000/54000 - 1s - loss: 0.0020 - acc: 0.9994 - val_loss: 0.0978 - val_acc: 0.9838\n",
            "Epoch 38/100\n",
            "54000/54000 - 1s - loss: 0.0020 - acc: 0.9994 - val_loss: 0.1202 - val_acc: 0.9817\n",
            "Epoch 39/100\n",
            "54000/54000 - 1s - loss: 0.0029 - acc: 0.9992 - val_loss: 0.0959 - val_acc: 0.9843\n",
            "Epoch 40/100\n",
            "54000/54000 - 1s - loss: 1.3002e-04 - acc: 1.0000 - val_loss: 0.0997 - val_acc: 0.9850\n",
            "Epoch 41/100\n",
            "54000/54000 - 1s - loss: 2.2146e-05 - acc: 1.0000 - val_loss: 0.1007 - val_acc: 0.9852\n",
            "Epoch 42/100\n",
            "54000/54000 - 1s - loss: 1.4650e-05 - acc: 1.0000 - val_loss: 0.1017 - val_acc: 0.9853\n",
            "Epoch 43/100\n",
            "54000/54000 - 1s - loss: 1.1295e-05 - acc: 1.0000 - val_loss: 0.1028 - val_acc: 0.9855\n",
            "Epoch 44/100\n",
            "54000/54000 - 1s - loss: 9.0987e-06 - acc: 1.0000 - val_loss: 0.1037 - val_acc: 0.9855\n",
            "Epoch 45/100\n",
            "54000/54000 - 1s - loss: 7.5101e-06 - acc: 1.0000 - val_loss: 0.1046 - val_acc: 0.9857\n",
            "Epoch 46/100\n",
            "54000/54000 - 1s - loss: 6.3152e-06 - acc: 1.0000 - val_loss: 0.1057 - val_acc: 0.9858\n",
            "Epoch 47/100\n",
            "54000/54000 - 1s - loss: 5.3493e-06 - acc: 1.0000 - val_loss: 0.1067 - val_acc: 0.9858\n",
            "Epoch 48/100\n",
            "54000/54000 - 1s - loss: 4.5653e-06 - acc: 1.0000 - val_loss: 0.1076 - val_acc: 0.9858\n",
            "Epoch 49/100\n",
            "54000/54000 - 1s - loss: 3.9201e-06 - acc: 1.0000 - val_loss: 0.1086 - val_acc: 0.9858\n",
            "Epoch 50/100\n",
            "54000/54000 - 1s - loss: 3.3748e-06 - acc: 1.0000 - val_loss: 0.1095 - val_acc: 0.9857\n",
            "Epoch 51/100\n",
            "54000/54000 - 1s - loss: 2.8995e-06 - acc: 1.0000 - val_loss: 0.1105 - val_acc: 0.9857\n",
            "Epoch 52/100\n",
            "54000/54000 - 1s - loss: 2.4692e-06 - acc: 1.0000 - val_loss: 0.1117 - val_acc: 0.9857\n",
            "Epoch 53/100\n",
            "54000/54000 - 1s - loss: 2.0673e-06 - acc: 1.0000 - val_loss: 0.1131 - val_acc: 0.9855\n",
            "Epoch 54/100\n",
            "54000/54000 - 1s - loss: 1.6919e-06 - acc: 1.0000 - val_loss: 0.1149 - val_acc: 0.9857\n",
            "Epoch 55/100\n",
            "54000/54000 - 1s - loss: 1.3513e-06 - acc: 1.0000 - val_loss: 0.1170 - val_acc: 0.9857\n",
            "Epoch 56/100\n",
            "54000/54000 - 1s - loss: 1.0596e-06 - acc: 1.0000 - val_loss: 0.1192 - val_acc: 0.9857\n",
            "Epoch 57/100\n",
            "54000/54000 - 1s - loss: 8.2840e-07 - acc: 1.0000 - val_loss: 0.1213 - val_acc: 0.9857\n",
            "Epoch 58/100\n",
            "54000/54000 - 1s - loss: 6.5071e-07 - acc: 1.0000 - val_loss: 0.1236 - val_acc: 0.9857\n",
            "Epoch 59/100\n",
            "54000/54000 - 1s - loss: 5.1748e-07 - acc: 1.0000 - val_loss: 0.1256 - val_acc: 0.9853\n",
            "Epoch 60/100\n",
            "54000/54000 - 1s - loss: 4.1583e-07 - acc: 1.0000 - val_loss: 0.1276 - val_acc: 0.9853\n",
            "Epoch 61/100\n",
            "54000/54000 - 1s - loss: 3.3888e-07 - acc: 1.0000 - val_loss: 0.1296 - val_acc: 0.9853\n",
            "Epoch 62/100\n",
            "54000/54000 - 1s - loss: 2.7995e-07 - acc: 1.0000 - val_loss: 0.1315 - val_acc: 0.9852\n",
            "Epoch 63/100\n",
            "54000/54000 - 1s - loss: 2.3381e-07 - acc: 1.0000 - val_loss: 0.1333 - val_acc: 0.9852\n",
            "Epoch 64/100\n",
            "54000/54000 - 1s - loss: 1.9783e-07 - acc: 1.0000 - val_loss: 0.1349 - val_acc: 0.9853\n",
            "Epoch 65/100\n",
            "54000/54000 - 1s - loss: 1.6844e-07 - acc: 1.0000 - val_loss: 0.1365 - val_acc: 0.9853\n",
            "Epoch 66/100\n",
            "54000/54000 - 1s - loss: 1.4471e-07 - acc: 1.0000 - val_loss: 0.1379 - val_acc: 0.9853\n",
            "Epoch 67/100\n",
            "54000/54000 - 1s - loss: 1.2569e-07 - acc: 1.0000 - val_loss: 0.1394 - val_acc: 0.9853\n",
            "Epoch 68/100\n",
            "54000/54000 - 1s - loss: 1.0969e-07 - acc: 1.0000 - val_loss: 0.1407 - val_acc: 0.9853\n",
            "Epoch 69/100\n",
            "54000/54000 - 1s - loss: 9.6177e-08 - acc: 1.0000 - val_loss: 0.1421 - val_acc: 0.9850\n",
            "Epoch 70/100\n",
            "54000/54000 - 1s - loss: 8.5130e-08 - acc: 1.0000 - val_loss: 0.1432 - val_acc: 0.9853\n",
            "Epoch 71/100\n",
            "54000/54000 - 1s - loss: 7.5605e-08 - acc: 1.0000 - val_loss: 0.1444 - val_acc: 0.9852\n",
            "Epoch 72/100\n",
            "54000/54000 - 1s - loss: 6.7108e-08 - acc: 1.0000 - val_loss: 0.1457 - val_acc: 0.9852\n",
            "Epoch 73/100\n",
            "54000/54000 - 1s - loss: 6.0229e-08 - acc: 1.0000 - val_loss: 0.1466 - val_acc: 0.9855\n",
            "Epoch 74/100\n",
            "54000/54000 - 1s - loss: 5.3968e-08 - acc: 1.0000 - val_loss: 0.1477 - val_acc: 0.9855\n",
            "Epoch 75/100\n",
            "54000/54000 - 1s - loss: 4.8505e-08 - acc: 1.0000 - val_loss: 0.1487 - val_acc: 0.9857\n",
            "Epoch 76/100\n",
            "54000/54000 - 1s - loss: 4.3807e-08 - acc: 1.0000 - val_loss: 0.1496 - val_acc: 0.9855\n",
            "Epoch 77/100\n",
            "54000/54000 - 1s - loss: 3.9580e-08 - acc: 1.0000 - val_loss: 0.1506 - val_acc: 0.9855\n",
            "Epoch 78/100\n",
            "54000/54000 - 1s - loss: 3.5763e-08 - acc: 1.0000 - val_loss: 0.1516 - val_acc: 0.9855\n",
            "Epoch 79/100\n",
            "54000/54000 - 1s - loss: 3.2451e-08 - acc: 1.0000 - val_loss: 0.1524 - val_acc: 0.9855\n",
            "Epoch 80/100\n",
            "54000/54000 - 1s - loss: 2.9537e-08 - acc: 1.0000 - val_loss: 0.1533 - val_acc: 0.9855\n",
            "Epoch 81/100\n",
            "54000/54000 - 1s - loss: 2.6915e-08 - acc: 1.0000 - val_loss: 0.1542 - val_acc: 0.9855\n",
            "Epoch 82/100\n",
            "54000/54000 - 1s - loss: 2.4575e-08 - acc: 1.0000 - val_loss: 0.1551 - val_acc: 0.9857\n",
            "Epoch 83/100\n",
            "54000/54000 - 1s - loss: 2.2416e-08 - acc: 1.0000 - val_loss: 0.1558 - val_acc: 0.9855\n",
            "Epoch 84/100\n",
            "54000/54000 - 1s - loss: 2.0592e-08 - acc: 1.0000 - val_loss: 0.1566 - val_acc: 0.9855\n",
            "Epoch 85/100\n",
            "54000/54000 - 1s - loss: 1.8886e-08 - acc: 1.0000 - val_loss: 0.1574 - val_acc: 0.9855\n",
            "Epoch 86/100\n",
            "54000/54000 - 1s - loss: 1.7363e-08 - acc: 1.0000 - val_loss: 0.1582 - val_acc: 0.9855\n",
            "Epoch 87/100\n",
            "54000/54000 - 1s - loss: 1.5981e-08 - acc: 1.0000 - val_loss: 0.1588 - val_acc: 0.9855\n",
            "Epoch 88/100\n",
            "54000/54000 - 1s - loss: 1.4733e-08 - acc: 1.0000 - val_loss: 0.1594 - val_acc: 0.9855\n",
            "Epoch 89/100\n",
            "54000/54000 - 1s - loss: 1.3563e-08 - acc: 1.0000 - val_loss: 0.1600 - val_acc: 0.9855\n",
            "Epoch 90/100\n",
            "54000/54000 - 1s - loss: 1.2513e-08 - acc: 1.0000 - val_loss: 0.1607 - val_acc: 0.9855\n",
            "Epoch 91/100\n",
            "54000/54000 - 1s - loss: 1.1552e-08 - acc: 1.0000 - val_loss: 0.1614 - val_acc: 0.9855\n",
            "Epoch 92/100\n",
            "54000/54000 - 1s - loss: 1.0627e-08 - acc: 1.0000 - val_loss: 0.1619 - val_acc: 0.9855\n",
            "Epoch 93/100\n",
            "54000/54000 - 1s - loss: 9.8039e-09 - acc: 1.0000 - val_loss: 0.1626 - val_acc: 0.9853\n",
            "Epoch 94/100\n",
            "54000/54000 - 1s - loss: 9.0334e-09 - acc: 1.0000 - val_loss: 0.1632 - val_acc: 0.9853\n",
            "Epoch 95/100\n",
            "54000/54000 - 1s - loss: 8.3756e-09 - acc: 1.0000 - val_loss: 0.1637 - val_acc: 0.9853\n",
            "Epoch 96/100\n",
            "54000/54000 - 1s - loss: 7.7398e-09 - acc: 1.0000 - val_loss: 0.1643 - val_acc: 0.9853\n",
            "Epoch 97/100\n",
            "54000/54000 - 1s - loss: 7.0974e-09 - acc: 1.0000 - val_loss: 0.1648 - val_acc: 0.9853\n",
            "Epoch 98/100\n",
            "54000/54000 - 1s - loss: 6.5786e-09 - acc: 1.0000 - val_loss: 0.1655 - val_acc: 0.9853\n",
            "Epoch 99/100\n",
            "54000/54000 - 1s - loss: 6.0819e-09 - acc: 1.0000 - val_loss: 0.1659 - val_acc: 0.9853\n",
            "Epoch 100/100\n",
            "54000/54000 - 1s - loss: 5.6249e-09 - acc: 1.0000 - val_loss: 0.1664 - val_acc: 0.9853\n"
          ],
          "name": "stdout"
        }
      ]
    },
    {
      "cell_type": "code",
      "metadata": {
        "id": "V7vZv1psPTDs",
        "colab_type": "code",
        "colab": {}
      },
      "source": [
        "# y_pred = model.predict(x_train, batch_size=batch_size)"
      ],
      "execution_count": 0,
      "outputs": []
    },
    {
      "cell_type": "code",
      "metadata": {
        "id": "TENV5a3XOuOA",
        "colab_type": "code",
        "colab": {}
      },
      "source": [
        "# best_model = keras.models.load_model(model_path)\n",
        "best_model = model"
      ],
      "execution_count": 0,
      "outputs": []
    },
    {
      "cell_type": "code",
      "metadata": {
        "id": "ousb7gdBxkfQ",
        "colab_type": "code",
        "outputId": "b2552609-8cef-4e50-bd64-1d293c189c35",
        "colab": {
          "base_uri": "https://localhost:8080/",
          "height": 35
        }
      },
      "source": [
        "loss, accuracy = best_model.evaluate(x_test, y_test, batch_size=2000)"
      ],
      "execution_count": 0,
      "outputs": [
        {
          "output_type": "stream",
          "text": [
            "10000/10000 [==============================] - 0s 4us/sample - loss: 0.1385 - acc: 0.9865\n"
          ],
          "name": "stdout"
        }
      ]
    },
    {
      "cell_type": "code",
      "metadata": {
        "id": "EtTKSWs5Lwc3",
        "colab_type": "code",
        "colab": {}
      },
      "source": [
        "y_pred = best_model.predict(x_test)"
      ],
      "execution_count": 0,
      "outputs": []
    },
    {
      "cell_type": "code",
      "metadata": {
        "id": "bRcrfJYM4Bow",
        "colab_type": "code",
        "outputId": "909fe3a7-231d-46f4-c4b5-aada7a366a08",
        "colab": {
          "base_uri": "https://localhost:8080/",
          "height": 483
        }
      },
      "source": [
        "plt.figure(figsize=(12, 8))\n",
        "plt.plot(hist.history['loss'], label='Training Loss')\n",
        "plt.plot(hist.history['acc'], label='Training Accuracy')\n",
        "plt.plot(hist.history['val_loss'], label='Validation Loss')\n",
        "plt.plot(hist.history['val_acc'], label='Validation Accuracy')\n",
        "plt.legend(['loss', 'acc', 'val_loss', 'val_acc'])\n",
        "plt.grid()\n",
        "plt.show()"
      ],
      "execution_count": 0,
      "outputs": [
        {
          "output_type": "display_data",
          "data": {
            "image/png": "[encoded data removed]",
            "text/plain": [
              "<Figure size 864x576 with 1 Axes>"
            ]
          },
          "metadata": {
            "tags": []
          }
        }
      ]
    },
    {
      "cell_type": "code",
      "metadata": {
        "id": "DipTadZpCo0j",
        "colab_type": "code",
        "outputId": "00623f0e-f227-4260-fcd9-87db5e8a9c84",
        "colab": {
          "base_uri": "https://localhost:8080/",
          "height": 53
        }
      },
      "source": [
        "print(\"Loss : {:.6f}\".format(loss))\n",
        "print(\"Accuracy : {:.6f}\".format(accuracy))"
      ],
      "execution_count": 0,
      "outputs": [
        {
          "output_type": "stream",
          "text": [
            "Loss : 0.138476\n",
            "Accuracy : 0.986500\n"
          ],
          "name": "stdout"
        }
      ]
    }
  ]
}