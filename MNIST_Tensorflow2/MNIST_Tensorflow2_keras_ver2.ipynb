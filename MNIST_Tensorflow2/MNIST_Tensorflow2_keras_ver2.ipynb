{
  "nbformat": 4,
  "nbformat_minor": 0,
  "metadata": {
    "colab": {
      "name": "MNIST_Tensorflow2_keras_ver2.ipynb",
      "provenance": [],
      "collapsed_sections": [],
      "include_colab_link": true
    },
    "kernelspec": {
      "name": "python3",
      "display_name": "Python 3"
    },
    "accelerator": "GPU"
  },
  "cells": [
    {
      "cell_type": "markdown",
      "metadata": {
        "id": "view-in-github",
        "colab_type": "text"
      },
      "source": [
        "<a href=\"https://colab.research.google.com/github/daepoid/AI_Class/blob/master/MNIST_Tensorflow2/MNIST_Tensorflow2_keras_ver2.ipynb\" target=\"_parent\"><img src=\"https://colab.research.google.com/assets/colab-badge.svg\" alt=\"Open In Colab\"/></a>"
      ]
    },
    {
      "cell_type": "code",
      "metadata": {
        "id": "NDpR205tB31_",
        "colab_type": "code",
        "outputId": "b4bc3f19-31f4-4aaa-9998-0e7d711a30bc",
        "colab": {
          "base_uri": "https://localhost:8080/",
          "height": 64
        }
      },
      "source": [
        "import tensorflow as tf\n",
        "import numpy as np\n",
        "from tensorflow import keras\n",
        "import matplotlib.pyplot as plt"
      ],
      "execution_count": 1,
      "outputs": [
        {
          "output_type": "display_data",
          "data": {
            "text/html": [
              "<p style=\"color: red;\">\n",
              "The default version of TensorFlow in Colab will soon switch to TensorFlow 2.x.<br>\n",
              "We recommend you <a href=\"https://www.tensorflow.org/guide/migrate\" target=\"_blank\">upgrade</a> now \n",
              "or ensure your notebook will continue to use TensorFlow 1.x via the <code>%tensorflow_version 1.x</code> magic:\n",
              "<a href=\"https://colab.research.google.com/notebooks/tensorflow_version.ipynb\" target=\"_blank\">more info</a>.</p>\n"
            ],
            "text/plain": [
              "<IPython.core.display.HTML object>"
            ]
          },
          "metadata": {
            "tags": []
          }
        }
      ]
    },
    {
      "cell_type": "code",
      "metadata": {
        "id": "UZ1eizMVvPU9",
        "colab_type": "code",
        "outputId": "4a578174-32c2-4e80-8e37-78bb194bda07",
        "colab": {
          "base_uri": "https://localhost:8080/",
          "height": 127
        }
      },
      "source": [
        "from google.colab import drive\n",
        "drive.mount('/content/drive')"
      ],
      "execution_count": 2,
      "outputs": [
        {
          "output_type": "stream",
          "text": [
            "Go to this URL in a browser: https://accounts.google.com/o/oauth2/auth?client_id=947318989803-6bn6qk8qdgf4n4g3pfee6491hc0brc4i.apps.googleusercontent.com&redirect_uri=urn%3aietf%3awg%3aoauth%3a2.0%3aoob&response_type=code&scope=email%20https%3a%2f%2fwww.googleapis.com%2fauth%2fdocs.test%20https%3a%2f%2fwww.googleapis.com%2fauth%2fdrive%20https%3a%2f%2fwww.googleapis.com%2fauth%2fdrive.photos.readonly%20https%3a%2f%2fwww.googleapis.com%2fauth%2fpeopleapi.readonly\n",
            "\n",
            "Enter your authorization code:\n",
            "··········\n",
            "Mounted at /content/drive\n"
          ],
          "name": "stdout"
        }
      ]
    },
    {
      "cell_type": "code",
      "metadata": {
        "id": "NTnDj8VdRL3z",
        "colab_type": "code",
        "colab": {}
      },
      "source": [
        "dropout_rate = 0.2\n",
        "input_layer_size = 784\n",
        "first_hidden_layer_size = 256\n",
        "second_hidden_layer_size = 256\n",
        "batch_size = 256\n",
        "epoch_size = 100\n",
        "learning_rate = 0.001\n",
        "l2_norm = 0.001\n",
        "model_patience = 7\n",
        "\n",
        "train_path = '/content/drive/My Drive/Colab Notebooks/train.txt'\n",
        "test_path = '/content/drive/My Drive/Colab Notebooks/test.txt'\n",
        "model_path = '/content/drive/My Drive/Colab Notebooks/best_model_b256.h5'"
      ],
      "execution_count": 0,
      "outputs": []
    },
    {
      "cell_type": "code",
      "metadata": {
        "id": "9b3VabYe78fQ",
        "colab_type": "code",
        "colab": {}
      },
      "source": [
        "with open(train_path) as train_data:\n",
        "  trainsets = train_data.read()\n",
        "\n",
        "trainsets = trainsets.split()\n",
        "\n",
        "y_train =  list(map(int, trainsets[::28 * 28 + 1]))\n",
        "del trainsets[::28 * 28 + 1]\n",
        "x_train = list(map(float, trainsets))\n",
        "\n",
        "with open(test_path) as test_data:\n",
        "  testsets = test_data.read()\n",
        "\n",
        "testsets = testsets.split()\n",
        "\n",
        "y_test = list(map(int, testsets[::28 * 28 + 1]))\n",
        "del testsets[::28 * 28 + 1]\n",
        "x_test = list(map(float, testsets))"
      ],
      "execution_count": 0,
      "outputs": []
    },
    {
      "cell_type": "code",
      "metadata": {
        "id": "1oHHF0SuEC56",
        "colab_type": "code",
        "colab": {}
      },
      "source": [
        "x_train = np.array(x_train).reshape(60000, 784).astype('float32') / 255.0\n",
        "x_test = np.array(x_test).reshape(10000, 784).astype('float32') / 255.0"
      ],
      "execution_count": 0,
      "outputs": []
    },
    {
      "cell_type": "code",
      "metadata": {
        "id": "1ApxopcxF3-9",
        "colab_type": "code",
        "colab": {}
      },
      "source": [
        "y_train = keras.utils.to_categorical(np.array(y_train))\n",
        "y_test = keras.utils.to_categorical(np.array(y_test))"
      ],
      "execution_count": 0,
      "outputs": []
    },
    {
      "cell_type": "code",
      "metadata": {
        "id": "5woirw2qColr",
        "colab_type": "code",
        "colab": {}
      },
      "source": [
        "model = tf.keras.Sequential()"
      ],
      "execution_count": 0,
      "outputs": []
    },
    {
      "cell_type": "code",
      "metadata": {
        "id": "hpAZkr-H4uTB",
        "colab_type": "code",
        "colab": {}
      },
      "source": [
        "# model.add(keras.layers.Dense(input_layer_size, input_shape=(784,), \n",
        "#                              activation='relu'))\n",
        "# model.add(keras.layers.Dense(first_hidden_layer_size, \n",
        "#                              activation='relu'))\n",
        "# model.add(keras.layers.Dense(second_hidden_layer_size, \n",
        "#                              activation='relu'))\n",
        "# model.add(keras.layers.Dense(10, activation='softmax'))"
      ],
      "execution_count": 0,
      "outputs": []
    },
    {
      "cell_type": "code",
      "metadata": {
        "id": "eYm-yQrcRHqf",
        "colab_type": "code",
        "colab": {
          "base_uri": "https://localhost:8080/",
          "height": 91
        },
        "outputId": "4a5749e9-5e02-4f6e-ae8c-6e59dafbe0db"
      },
      "source": [
        "model.add(keras.layers.Dense(input_layer_size, input_shape=(784,), \n",
        "                             activation='relu', \n",
        "                             kernel_initializer='he_normal',\n",
        "                             kernel_regularizer=keras.regularizers.l2(l2_norm)))\n",
        "model.add(keras.layers.Dropout(dropout_rate))\n",
        "model.add(keras.layers.Dense(first_hidden_layer_size, \n",
        "                             activation='relu', \n",
        "                             kernel_initializer='he_normal', \n",
        "                             kernel_regularizer=keras.regularizers.l2(l2_norm)))\n",
        "model.add(keras.layers.Dropout(dropout_rate))\n",
        "model.add(keras.layers.Dense(second_hidden_layer_size, \n",
        "                             activation='relu', \n",
        "                             kernel_initializer='he_normal', \n",
        "                             kernel_regularizer=keras.regularizers.l2(l2_norm)))\n",
        "model.add(keras.layers.Dropout(dropout_rate))\n",
        "model.add(keras.layers.Dense(10, activation='softmax'))"
      ],
      "execution_count": 9,
      "outputs": [
        {
          "output_type": "stream",
          "text": [
            "WARNING:tensorflow:From /usr/local/lib/python3.6/dist-packages/tensorflow_core/python/ops/resource_variable_ops.py:1630: calling BaseResourceVariable.__init__ (from tensorflow.python.ops.resource_variable_ops) with constraint is deprecated and will be removed in a future version.\n",
            "Instructions for updating:\n",
            "If using Keras pass *_constraint arguments to layers.\n"
          ],
          "name": "stdout"
        }
      ]
    },
    {
      "cell_type": "code",
      "metadata": {
        "id": "HOjyXwqcVon0",
        "colab_type": "code",
        "colab": {}
      },
      "source": [
        "model.compile(loss='categorical_crossentropy', \n",
        "              optimizer=keras.optimizers.Adam(lr=learning_rate), \n",
        "              metrics=['accuracy'])"
      ],
      "execution_count": 0,
      "outputs": []
    },
    {
      "cell_type": "code",
      "metadata": {
        "id": "jaapSGNbQ_E-",
        "colab_type": "code",
        "colab": {}
      },
      "source": [
        "callbacks = [keras.callbacks.EarlyStopping(monitor='val_loss', patience=model_patience),\n",
        "             keras.callbacks.ModelCheckpoint(filepath=model_path,\n",
        "                                             monitor='val_loss',\n",
        "                                             save_best_only=True)]"
      ],
      "execution_count": 0,
      "outputs": []
    },
    {
      "cell_type": "code",
      "metadata": {
        "colab_type": "code",
        "id": "Yc6I873eE5mY",
        "outputId": "ed3092d8-acda-43a0-fd4e-27666dd416de",
        "colab": {
          "base_uri": "https://localhost:8080/",
          "height": 1000
        }
      },
      "source": [
        "hist = model.fit(x_train, y_train, batch_size=batch_size, epochs=epoch_size, validation_split=0.1, callbacks=callbacks, verbose=2)\n",
        "# hist = model.fit(x_train, y_train, batch_size=batch_size, epochs=epoch_size, validation_split=0.1, verbose=2)\n"
      ],
      "execution_count": 12,
      "outputs": [
        {
          "output_type": "stream",
          "text": [
            "Train on 54000 samples, validate on 6000 samples\n",
            "Epoch 1/100\n",
            "54000/54000 - 3s - loss: 1.7087 - acc: 0.8926 - val_loss: 0.9010 - val_acc: 0.9690\n",
            "Epoch 2/100\n",
            "54000/54000 - 1s - loss: 0.7297 - acc: 0.9548 - val_loss: 0.5103 - val_acc: 0.9743\n",
            "Epoch 3/100\n",
            "54000/54000 - 1s - loss: 0.4533 - acc: 0.9636 - val_loss: 0.3529 - val_acc: 0.9743\n",
            "Epoch 4/100\n",
            "54000/54000 - 1s - loss: 0.3382 - acc: 0.9668 - val_loss: 0.2796 - val_acc: 0.9773\n",
            "Epoch 5/100\n",
            "54000/54000 - 1s - loss: 0.2861 - acc: 0.9689 - val_loss: 0.2413 - val_acc: 0.9780\n",
            "Epoch 6/100\n",
            "54000/54000 - 1s - loss: 0.2578 - acc: 0.9692 - val_loss: 0.2306 - val_acc: 0.9758\n",
            "Epoch 7/100\n",
            "54000/54000 - 1s - loss: 0.2415 - acc: 0.9708 - val_loss: 0.2102 - val_acc: 0.9788\n",
            "Epoch 8/100\n",
            "54000/54000 - 1s - loss: 0.2301 - acc: 0.9718 - val_loss: 0.2055 - val_acc: 0.9797\n",
            "Epoch 9/100\n",
            "54000/54000 - 1s - loss: 0.2235 - acc: 0.9730 - val_loss: 0.2038 - val_acc: 0.9785\n",
            "Epoch 10/100\n",
            "54000/54000 - 1s - loss: 0.2196 - acc: 0.9734 - val_loss: 0.2157 - val_acc: 0.9733\n",
            "Epoch 11/100\n",
            "54000/54000 - 1s - loss: 0.2157 - acc: 0.9732 - val_loss: 0.2226 - val_acc: 0.9717\n",
            "Epoch 12/100\n",
            "54000/54000 - 1s - loss: 0.2106 - acc: 0.9751 - val_loss: 0.2009 - val_acc: 0.9782\n",
            "Epoch 13/100\n",
            "54000/54000 - 1s - loss: 0.2052 - acc: 0.9755 - val_loss: 0.1899 - val_acc: 0.9798\n",
            "Epoch 14/100\n",
            "54000/54000 - 1s - loss: 0.2088 - acc: 0.9744 - val_loss: 0.1965 - val_acc: 0.9767\n",
            "Epoch 15/100\n",
            "54000/54000 - 2s - loss: 0.2037 - acc: 0.9746 - val_loss: 0.1830 - val_acc: 0.9807\n",
            "Epoch 16/100\n",
            "54000/54000 - 1s - loss: 0.1997 - acc: 0.9753 - val_loss: 0.1881 - val_acc: 0.9802\n",
            "Epoch 17/100\n",
            "54000/54000 - 1s - loss: 0.1995 - acc: 0.9760 - val_loss: 0.1899 - val_acc: 0.9762\n",
            "Epoch 18/100\n",
            "54000/54000 - 1s - loss: 0.1947 - acc: 0.9758 - val_loss: 0.1834 - val_acc: 0.9787\n",
            "Epoch 19/100\n",
            "54000/54000 - 1s - loss: 0.1928 - acc: 0.9762 - val_loss: 0.1850 - val_acc: 0.9793\n",
            "Epoch 20/100\n",
            "54000/54000 - 1s - loss: 0.1963 - acc: 0.9750 - val_loss: 0.1803 - val_acc: 0.9807\n",
            "Epoch 21/100\n",
            "54000/54000 - 1s - loss: 0.1866 - acc: 0.9775 - val_loss: 0.1823 - val_acc: 0.9790\n",
            "Epoch 22/100\n",
            "54000/54000 - 1s - loss: 0.1903 - acc: 0.9766 - val_loss: 0.1759 - val_acc: 0.9812\n",
            "Epoch 23/100\n",
            "54000/54000 - 1s - loss: 0.1814 - acc: 0.9783 - val_loss: 0.1789 - val_acc: 0.9790\n",
            "Epoch 24/100\n",
            "54000/54000 - 1s - loss: 0.1854 - acc: 0.9771 - val_loss: 0.1758 - val_acc: 0.9797\n",
            "Epoch 25/100\n",
            "54000/54000 - 2s - loss: 0.1862 - acc: 0.9769 - val_loss: 0.1730 - val_acc: 0.9808\n",
            "Epoch 26/100\n",
            "54000/54000 - 1s - loss: 0.1814 - acc: 0.9771 - val_loss: 0.1742 - val_acc: 0.9797\n",
            "Epoch 27/100\n",
            "54000/54000 - 1s - loss: 0.1816 - acc: 0.9779 - val_loss: 0.1726 - val_acc: 0.9797\n",
            "Epoch 28/100\n",
            "54000/54000 - 1s - loss: 0.1804 - acc: 0.9778 - val_loss: 0.1789 - val_acc: 0.9795\n",
            "Epoch 29/100\n",
            "54000/54000 - 1s - loss: 0.1784 - acc: 0.9782 - val_loss: 0.1751 - val_acc: 0.9792\n",
            "Epoch 30/100\n",
            "54000/54000 - 1s - loss: 0.1800 - acc: 0.9783 - val_loss: 0.1775 - val_acc: 0.9763\n",
            "Epoch 31/100\n",
            "54000/54000 - 1s - loss: 0.1764 - acc: 0.9771 - val_loss: 0.1669 - val_acc: 0.9803\n",
            "Epoch 32/100\n",
            "54000/54000 - 1s - loss: 0.1718 - acc: 0.9790 - val_loss: 0.1705 - val_acc: 0.9800\n",
            "Epoch 33/100\n",
            "54000/54000 - 1s - loss: 0.1746 - acc: 0.9783 - val_loss: 0.1698 - val_acc: 0.9822\n",
            "Epoch 34/100\n",
            "54000/54000 - 1s - loss: 0.1724 - acc: 0.9793 - val_loss: 0.1668 - val_acc: 0.9810\n",
            "Epoch 35/100\n",
            "54000/54000 - 1s - loss: 0.1722 - acc: 0.9786 - val_loss: 0.1736 - val_acc: 0.9795\n",
            "Epoch 36/100\n",
            "54000/54000 - 1s - loss: 0.1771 - acc: 0.9772 - val_loss: 0.1665 - val_acc: 0.9795\n",
            "Epoch 37/100\n",
            "54000/54000 - 1s - loss: 0.1751 - acc: 0.9781 - val_loss: 0.1638 - val_acc: 0.9817\n",
            "Epoch 38/100\n",
            "54000/54000 - 1s - loss: 0.1730 - acc: 0.9783 - val_loss: 0.1690 - val_acc: 0.9807\n",
            "Epoch 39/100\n",
            "54000/54000 - 1s - loss: 0.1674 - acc: 0.9796 - val_loss: 0.1635 - val_acc: 0.9803\n",
            "Epoch 40/100\n",
            "54000/54000 - 1s - loss: 0.1652 - acc: 0.9799 - val_loss: 0.1653 - val_acc: 0.9798\n",
            "Epoch 41/100\n",
            "54000/54000 - 1s - loss: 0.1714 - acc: 0.9780 - val_loss: 0.1774 - val_acc: 0.9775\n",
            "Epoch 42/100\n",
            "54000/54000 - 1s - loss: 0.1688 - acc: 0.9791 - val_loss: 0.1631 - val_acc: 0.9807\n",
            "Epoch 43/100\n",
            "54000/54000 - 1s - loss: 0.1668 - acc: 0.9795 - val_loss: 0.1594 - val_acc: 0.9818\n",
            "Epoch 44/100\n",
            "54000/54000 - 2s - loss: 0.1686 - acc: 0.9790 - val_loss: 0.1586 - val_acc: 0.9815\n",
            "Epoch 45/100\n",
            "54000/54000 - 1s - loss: 0.1685 - acc: 0.9785 - val_loss: 0.1624 - val_acc: 0.9820\n",
            "Epoch 46/100\n",
            "54000/54000 - 1s - loss: 0.1695 - acc: 0.9789 - val_loss: 0.1599 - val_acc: 0.9835\n",
            "Epoch 47/100\n",
            "54000/54000 - 1s - loss: 0.1686 - acc: 0.9786 - val_loss: 0.1586 - val_acc: 0.9837\n",
            "Epoch 48/100\n",
            "54000/54000 - 1s - loss: 0.1641 - acc: 0.9799 - val_loss: 0.1568 - val_acc: 0.9828\n",
            "Epoch 49/100\n",
            "54000/54000 - 1s - loss: 0.1658 - acc: 0.9793 - val_loss: 0.1638 - val_acc: 0.9797\n",
            "Epoch 50/100\n",
            "54000/54000 - 1s - loss: 0.1678 - acc: 0.9784 - val_loss: 0.1641 - val_acc: 0.9815\n",
            "Epoch 51/100\n",
            "54000/54000 - 1s - loss: 0.1631 - acc: 0.9800 - val_loss: 0.1625 - val_acc: 0.9813\n",
            "Epoch 52/100\n",
            "54000/54000 - 1s - loss: 0.1642 - acc: 0.9793 - val_loss: 0.1622 - val_acc: 0.9802\n",
            "Epoch 53/100\n",
            "54000/54000 - 1s - loss: 0.1635 - acc: 0.9799 - val_loss: 0.1688 - val_acc: 0.9788\n",
            "Epoch 54/100\n",
            "54000/54000 - 1s - loss: 0.1618 - acc: 0.9803 - val_loss: 0.1621 - val_acc: 0.9810\n",
            "Epoch 55/100\n",
            "54000/54000 - 1s - loss: 0.1648 - acc: 0.9783 - val_loss: 0.1590 - val_acc: 0.9828\n"
          ],
          "name": "stdout"
        }
      ]
    },
    {
      "cell_type": "code",
      "metadata": {
        "id": "V7vZv1psPTDs",
        "colab_type": "code",
        "colab": {}
      },
      "source": [
        "# y_pred = model.predict(x_train, batch_size=batch_size)"
      ],
      "execution_count": 0,
      "outputs": []
    },
    {
      "cell_type": "code",
      "metadata": {
        "id": "TENV5a3XOuOA",
        "colab_type": "code",
        "colab": {
          "base_uri": "https://localhost:8080/",
          "height": 179
        },
        "outputId": "8110700d-a79a-46ca-f46c-03bd46c3acae"
      },
      "source": [
        "best_model = keras.models.load_model(model_path)\n",
        "# best_model = model"
      ],
      "execution_count": 14,
      "outputs": [
        {
          "output_type": "stream",
          "text": [
            "WARNING:tensorflow:From /usr/local/lib/python3.6/dist-packages/tensorflow_core/python/ops/init_ops.py:97: calling VarianceScaling.__init__ (from tensorflow.python.ops.init_ops) with dtype is deprecated and will be removed in a future version.\n",
            "Instructions for updating:\n",
            "Call initializer instance with the dtype argument instead of passing it to the constructor\n",
            "WARNING:tensorflow:From /usr/local/lib/python3.6/dist-packages/tensorflow_core/python/ops/init_ops.py:97: calling Zeros.__init__ (from tensorflow.python.ops.init_ops) with dtype is deprecated and will be removed in a future version.\n",
            "Instructions for updating:\n",
            "Call initializer instance with the dtype argument instead of passing it to the constructor\n",
            "WARNING:tensorflow:From /usr/local/lib/python3.6/dist-packages/tensorflow_core/python/ops/init_ops.py:97: calling GlorotUniform.__init__ (from tensorflow.python.ops.init_ops) with dtype is deprecated and will be removed in a future version.\n",
            "Instructions for updating:\n",
            "Call initializer instance with the dtype argument instead of passing it to the constructor\n"
          ],
          "name": "stdout"
        }
      ]
    },
    {
      "cell_type": "code",
      "metadata": {
        "id": "ousb7gdBxkfQ",
        "colab_type": "code",
        "outputId": "2fd1693e-b344-4def-d34c-a895d2a88d68",
        "colab": {
          "base_uri": "https://localhost:8080/",
          "height": 35
        }
      },
      "source": [
        "loss, accuracy = best_model.evaluate(x_test, y_test, batch_size=2000)"
      ],
      "execution_count": 15,
      "outputs": [
        {
          "output_type": "stream",
          "text": [
            "10000/10000 [==============================] - 0s 10us/sample - loss: 0.1583 - acc: 0.9822\n"
          ],
          "name": "stdout"
        }
      ]
    },
    {
      "cell_type": "code",
      "metadata": {
        "id": "EtTKSWs5Lwc3",
        "colab_type": "code",
        "colab": {}
      },
      "source": [
        "y_pred = best_model.predict(x_test)"
      ],
      "execution_count": 0,
      "outputs": []
    },
    {
      "cell_type": "code",
      "metadata": {
        "id": "bRcrfJYM4Bow",
        "colab_type": "code",
        "outputId": "72f26c29-b52c-42a8-89ae-8a2440832b85",
        "colab": {
          "base_uri": "https://localhost:8080/",
          "height": 483
        }
      },
      "source": [
        "plt.figure(figsize=(12, 8))\n",
        "plt.plot(hist.history['loss'], label='Training Loss')\n",
        "plt.plot(hist.history['acc'], label='Training Accuracy')\n",
        "plt.plot(hist.history['val_loss'], label='Validation Loss')\n",
        "plt.plot(hist.history['val_acc'], label='Validation Accuracy')\n",
        "plt.legend(['loss', 'acc', 'val_loss', 'val_acc'])\n",
        "plt.grid()\n",
        "plt.show()"
      ],
      "execution_count": 17,
      "outputs": [
        {
          "output_type": "display_data",
          "data": {
            "image/png": "[encoded data removed]",
            "text/plain": [
              "<Figure size 864x576 with 1 Axes>"
            ]
          },
          "metadata": {
            "tags": []
          }
        }
      ]
    },
    {
      "cell_type": "code",
      "metadata": {
        "id": "DipTadZpCo0j",
        "colab_type": "code",
        "outputId": "2dfba22e-a617-40b6-deb9-b125db195814",
        "colab": {
          "base_uri": "https://localhost:8080/",
          "height": 53
        }
      },
      "source": [
        "print(\"Loss : {:.6f}\".format(loss))\n",
        "print(\"Accuracy : {:.6f}\".format(accuracy))"
      ],
      "execution_count": 18,
      "outputs": [
        {
          "output_type": "stream",
          "text": [
            "Loss : 0.158287\n",
            "Accuracy : 0.982200\n"
          ],
          "name": "stdout"
        }
      ]
    }
  ]
}